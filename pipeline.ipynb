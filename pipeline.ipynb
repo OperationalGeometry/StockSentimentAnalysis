{
 "cells": [
  {
   "cell_type": "code",
   "execution_count": 70,
   "id": "6c707880",
   "metadata": {},
   "outputs": [
    {
     "name": "stdout",
     "output_type": "stream",
     "text": [
      "Requirement already satisfied: feedparser in c:\\users\\anuta\\anaconda3\\lib\\site-packages (6.0.11)\n",
      "Requirement already satisfied: sgmllib3k in c:\\users\\anuta\\anaconda3\\lib\\site-packages (from feedparser) (1.0.0)\n",
      "Requirement already satisfied: yfinance in c:\\users\\anuta\\anaconda3\\lib\\site-packages (0.2.40)\n",
      "Requirement already satisfied: pandas>=1.3.0 in c:\\users\\anuta\\anaconda3\\lib\\site-packages (from yfinance) (2.1.4)\n",
      "Requirement already satisfied: numpy>=1.16.5 in c:\\users\\anuta\\anaconda3\\lib\\site-packages (from yfinance) (1.26.4)\n",
      "Requirement already satisfied: requests>=2.31 in c:\\users\\anuta\\anaconda3\\lib\\site-packages (from yfinance) (2.31.0)\n",
      "Requirement already satisfied: multitasking>=0.0.7 in c:\\users\\anuta\\anaconda3\\lib\\site-packages (from yfinance) (0.0.11)\n",
      "Requirement already satisfied: lxml>=4.9.1 in c:\\users\\anuta\\anaconda3\\lib\\site-packages (from yfinance) (4.9.3)\n",
      "Requirement already satisfied: platformdirs>=2.0.0 in c:\\users\\anuta\\anaconda3\\lib\\site-packages (from yfinance) (3.10.0)\n",
      "Requirement already satisfied: pytz>=2022.5 in c:\\users\\anuta\\anaconda3\\lib\\site-packages (from yfinance) (2023.3.post1)\n",
      "Requirement already satisfied: frozendict>=2.3.4 in c:\\users\\anuta\\anaconda3\\lib\\site-packages (from yfinance) (2.4.2)\n",
      "Requirement already satisfied: peewee>=3.16.2 in c:\\users\\anuta\\anaconda3\\lib\\site-packages (from yfinance) (3.17.5)\n",
      "Requirement already satisfied: beautifulsoup4>=4.11.1 in c:\\users\\anuta\\anaconda3\\lib\\site-packages (from yfinance) (4.12.2)\n",
      "Requirement already satisfied: html5lib>=1.1 in c:\\users\\anuta\\anaconda3\\lib\\site-packages (from yfinance) (1.1)\n",
      "Requirement already satisfied: soupsieve>1.2 in c:\\users\\anuta\\anaconda3\\lib\\site-packages (from beautifulsoup4>=4.11.1->yfinance) (2.5)\n",
      "Requirement already satisfied: six>=1.9 in c:\\users\\anuta\\anaconda3\\lib\\site-packages (from html5lib>=1.1->yfinance) (1.16.0)\n",
      "Requirement already satisfied: webencodings in c:\\users\\anuta\\anaconda3\\lib\\site-packages (from html5lib>=1.1->yfinance) (0.5.1)\n",
      "Requirement already satisfied: python-dateutil>=2.8.2 in c:\\users\\anuta\\anaconda3\\lib\\site-packages (from pandas>=1.3.0->yfinance) (2.8.2)\n",
      "Requirement already satisfied: tzdata>=2022.1 in c:\\users\\anuta\\anaconda3\\lib\\site-packages (from pandas>=1.3.0->yfinance) (2023.3)\n",
      "Requirement already satisfied: charset-normalizer<4,>=2 in c:\\users\\anuta\\anaconda3\\lib\\site-packages (from requests>=2.31->yfinance) (2.0.4)\n",
      "Requirement already satisfied: idna<4,>=2.5 in c:\\users\\anuta\\anaconda3\\lib\\site-packages (from requests>=2.31->yfinance) (3.4)\n",
      "Requirement already satisfied: urllib3<3,>=1.21.1 in c:\\users\\anuta\\anaconda3\\lib\\site-packages (from requests>=2.31->yfinance) (2.0.7)\n",
      "Requirement already satisfied: certifi>=2017.4.17 in c:\\users\\anuta\\anaconda3\\lib\\site-packages (from requests>=2.31->yfinance) (2024.2.2)\n",
      "Requirement already satisfied: nltk in c:\\users\\anuta\\anaconda3\\lib\\site-packages (3.8.1)\n",
      "Requirement already satisfied: click in c:\\users\\anuta\\anaconda3\\lib\\site-packages (from nltk) (8.1.7)\n",
      "Requirement already satisfied: joblib in c:\\users\\anuta\\anaconda3\\lib\\site-packages (from nltk) (1.2.0)\n",
      "Requirement already satisfied: regex>=2021.8.3 in c:\\users\\anuta\\anaconda3\\lib\\site-packages (from nltk) (2023.10.3)\n",
      "Requirement already satisfied: tqdm in c:\\users\\anuta\\anaconda3\\lib\\site-packages (from nltk) (4.65.0)\n",
      "Requirement already satisfied: colorama in c:\\users\\anuta\\anaconda3\\lib\\site-packages (from click->nltk) (0.4.6)\n",
      "Requirement already satisfied: torch in c:\\users\\anuta\\anaconda3\\lib\\site-packages (2.3.1)\n",
      "Requirement already satisfied: filelock in c:\\users\\anuta\\anaconda3\\lib\\site-packages (from torch) (3.13.1)\n",
      "Requirement already satisfied: typing-extensions>=4.8.0 in c:\\users\\anuta\\anaconda3\\lib\\site-packages (from torch) (4.9.0)\n",
      "Requirement already satisfied: sympy in c:\\users\\anuta\\anaconda3\\lib\\site-packages (from torch) (1.12)\n",
      "Requirement already satisfied: networkx in c:\\users\\anuta\\anaconda3\\lib\\site-packages (from torch) (3.1)\n",
      "Requirement already satisfied: jinja2 in c:\\users\\anuta\\anaconda3\\lib\\site-packages (from torch) (3.1.3)\n",
      "Requirement already satisfied: fsspec in c:\\users\\anuta\\anaconda3\\lib\\site-packages (from torch) (2023.10.0)\n",
      "Requirement already satisfied: mkl<=2021.4.0,>=2021.1.1 in c:\\users\\anuta\\anaconda3\\lib\\site-packages (from torch) (2021.4.0)\n",
      "Requirement already satisfied: intel-openmp==2021.* in c:\\users\\anuta\\anaconda3\\lib\\site-packages (from mkl<=2021.4.0,>=2021.1.1->torch) (2021.4.0)\n",
      "Requirement already satisfied: tbb==2021.* in c:\\users\\anuta\\anaconda3\\lib\\site-packages (from mkl<=2021.4.0,>=2021.1.1->torch) (2021.13.0)\n",
      "Requirement already satisfied: MarkupSafe>=2.0 in c:\\users\\anuta\\anaconda3\\lib\\site-packages (from jinja2->torch) (2.1.3)\n",
      "Requirement already satisfied: mpmath>=0.19 in c:\\users\\anuta\\anaconda3\\lib\\site-packages (from sympy->torch) (1.3.0)\n"
     ]
    },
    {
     "name": "stderr",
     "output_type": "stream",
     "text": [
      "[nltk_data] Downloading package punkt to\n",
      "[nltk_data]     C:\\Users\\anuta\\AppData\\Roaming\\nltk_data...\n",
      "[nltk_data]   Package punkt is already up-to-date!\n"
     ]
    },
    {
     "data": {
      "text/plain": [
       "True"
      ]
     },
     "execution_count": 70,
     "metadata": {},
     "output_type": "execute_result"
    }
   ],
   "source": [
    "!pip install feedparser\n",
    "!pip install yfinance\n",
    "!pip install nltk\n",
    "!pip install torch\n",
    "import torch\n",
    "import feedparser\n",
    "import yfinance as yf\n",
    "import nltk\n",
    "from datetime import datetime\n",
    "from collections import namedtuple\n",
    "import requests\n",
    "!pip install transformers -q\n",
    "from transformers import pipeline\n",
    "from nltk.tokenize import word_tokenize\n",
    "import pandas as pd\n",
    "import seaborn as sns\n",
    "nltk.download('punkt')"
   ]
  },
  {
   "cell_type": "code",
   "execution_count": 4,
   "id": "0d6c3936",
   "metadata": {},
   "outputs": [],
   "source": [
    "# Use the feedparser library to parse the RSS feed into a list of titles. \n",
    "feed_url = 'https://feeds.a.dj.com/rss/RSSMarketsMain.xml'\n",
    "feed = feedparser.parse(feed_url)\n",
    "\n",
    "# Create a struct for the pair (Ticker, Date Published) to help with lookup\n",
    "Ticker_Data = namedtuple(\"Ticker_Time\", [\"ticker\", \"time\", \"sentiment\"])"
   ]
  },
  {
   "cell_type": "code",
   "execution_count": 5,
   "id": "750f5c33",
   "metadata": {},
   "outputs": [],
   "source": [
    "# From a company name, get the corresponding ticker. Source: https://stackoverflow.com/a/38968465\n",
    "def get_ticker(company_name):\n",
    "    url = \"https://query2.finance.yahoo.com/v1/finance/search\"\n",
    "    user_agent = \"Mozilla/5.0 (Windows NT 10.0; Win64; x64)\"\n",
    "    params = {\"q\": company_name, \"quotes_count\": 1, \"country\": \"United States\"}\n",
    "\n",
    "    res = requests.get(url=url, params=params, headers={'User-Agent': user_agent})\n",
    "    data = res.json()\n",
    "    \n",
    "    if len(data['quotes']) == 0:\n",
    "        return None\n",
    "\n",
    "    company_code = data['quotes'][0]['symbol']\n",
    "    return company_code"
   ]
  },
  {
   "cell_type": "code",
   "execution_count": 6,
   "id": "74ac1aa1",
   "metadata": {},
   "outputs": [],
   "source": [
    "# Greedily extract the ticker from an entry title.\n",
    "def extract_ticker_name(title):\n",
    "    tokens = word_tokenize(title)\n",
    "    for token in tokens:\n",
    "        potential_company = get_ticker(token)\n",
    "        if potential_company is not None:\n",
    "            return potential_company\n",
    "    return None"
   ]
  },
  {
   "cell_type": "code",
   "execution_count": 57,
   "id": "6420d074",
   "metadata": {},
   "outputs": [],
   "source": [
    "# Fetch webpage content for sentiment analysis\n",
    "def fetch_webpage(url):\n",
    "    try:\n",
    "        response = requests.get(url)\n",
    "        if response.status_code == 200:\n",
    "            return response.content\n",
    "        else:\n",
    "            print(f\"Failed to retrieve webpage. Status code: {response.status_code}\")\n",
    "            return None\n",
    "    except requests.exceptions.RequestException as e:\n",
    "        print(f\"Error fetching webpage: {e}\")\n",
    "        return None"
   ]
  },
  {
   "cell_type": "code",
   "execution_count": 14,
   "id": "ddcdf16f",
   "metadata": {},
   "outputs": [
    {
     "name": "stderr",
     "output_type": "stream",
     "text": [
      "No model was supplied, defaulted to distilbert/distilbert-base-uncased-finetuned-sst-2-english and revision af0f99b (https://huggingface.co/distilbert/distilbert-base-uncased-finetuned-sst-2-english).\n",
      "Using a pipeline without specifying a model name and revision in production is not recommended.\n"
     ]
    }
   ],
   "source": [
    "# Create a list of Ticker_Time objects to keep track of the tickers and the corresponding dates that the article was published on\n",
    "sentiment_pipeline = pipeline('sentiment-analysis')\n",
    "\n",
    "def create_ticker_list(feed):\n",
    "    ticker_times = []\n",
    "    for entry in feed.entries:\n",
    "        tick_name = extract_ticker_name(entry.title)\n",
    "        if tick_name is None:\n",
    "            continue\n",
    "        else:\n",
    "            sentiment = sentiment_pipeline(entry.description)\n",
    "            tick_time = Ticker_Data(tick_name, entry.published, sentiment)\n",
    "            ticker_times.append(tick_time)\n",
    "    return ticker_times\n",
    "\n",
    "ticker_list = create_ticker_list(feed)"
   ]
  },
  {
   "cell_type": "code",
   "execution_count": 72,
   "id": "6b24838e",
   "metadata": {},
   "outputs": [
    {
     "name": "stderr",
     "output_type": "stream",
     "text": [
      "SXB=F: Period '1mo' is invalid, must be one of ['1d', '5d']\n",
      "^SPUACTUT: Period '1mo' is invalid, must be one of ['1d', '5d']\n",
      "DE000SLA4SG4.SG: Period '1mo' is invalid, must be one of ['1d', '5d']\n"
     ]
    }
   ],
   "source": [
    "# Calculate the change in stock price between when the article was published and the current time.\n",
    "def calculate_change(ticker_list):\n",
    "    date = datetime.now().strftime('%Y-%m-%d')\n",
    "    \n",
    "    data = {\n",
    "        'Ticker': [],\n",
    "        'Price Change': [],\n",
    "        'Article Sentiment': [],\n",
    "        'Sentiment Score': []\n",
    "    }\n",
    "\n",
    "    for entry in ticker_list:\n",
    "        t = yf.Ticker(entry.ticker)\n",
    "        prices = t.history()\n",
    "        if (len(prices) > 0):\n",
    "            price_change = round(prices[\"Close\"].iloc[len(prices)-1] - prices[\"Close\"].iloc[0], 4)\n",
    "            #print(str(entry.ticker) + \" | Price Change: \" + str(price_change) + \" | Article Sentiment: \" + str(entry.sentiment))\n",
    "            data['Ticker'].append(entry.ticker)\n",
    "            data['Price Change'].append(price_change)\n",
    "            data['Article Sentiment'].append(entry.sentiment[0][\"label\"])\n",
    "            data[\"Sentiment Score\"].append(entry.sentiment[0][\"score\"])\n",
    "            \n",
    "    return pd.DataFrame(data)\n",
    "df = calculate_change(ticker_list)"
   ]
  }
 ],
 "metadata": {
  "kernelspec": {
   "display_name": "Python 3 (ipykernel)",
   "language": "python",
   "name": "python3"
  },
  "language_info": {
   "codemirror_mode": {
    "name": "ipython",
    "version": 3
   },
   "file_extension": ".py",
   "mimetype": "text/x-python",
   "name": "python",
   "nbconvert_exporter": "python",
   "pygments_lexer": "ipython3",
   "version": "3.11.7"
  }
 },
 "nbformat": 4,
 "nbformat_minor": 5
}
